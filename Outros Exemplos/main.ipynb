{
 "cells": [
  {
   "cell_type": "code",
   "execution_count": 1,
   "metadata": {},
   "outputs": [],
   "source": [
    "from classe_vendedor import Vendedor"
   ]
  },
  {
   "cell_type": "code",
   "execution_count": 2,
   "metadata": {},
   "outputs": [],
   "source": [
    "#Vendedores\n",
    "Vendedor_1=Vendedor('Daniel',1000)\n",
    "Vendedor_2=Vendedor('Candiotto',300)\n"
   ]
  },
  {
   "cell_type": "code",
   "execution_count": 3,
   "metadata": {},
   "outputs": [
    {
     "name": "stdout",
     "output_type": "stream",
     "text": [
      "{'vendedor': 'Daniel', 'vendas': 1000, 'meta': 500, 'bonus': 0}\n",
      "O valor do bónus do vendedor Daniel é 0.\n",
      "**************************************************\n",
      "{'vendedor': 'Candiotto', 'vendas': 300, 'meta': 500, 'bonus': 0}\n",
      "O valor do bónus do vendedor Candiotto é 0.\n"
     ]
    }
   ],
   "source": [
    "#Consultas\n",
    "print(Vendedor_1.__dict__)\n",
    "print(f'O valor do bónus do vendedor {Vendedor_1.vendedor} é {Vendedor_1.bonus}.')\n",
    "print('*' * 50)\n",
    "print(Vendedor_2.__dict__)\n",
    "print(f'O valor do bónus do vendedor {Vendedor_2.vendedor} é {Vendedor_2.bonus}.')"
   ]
  },
  {
   "cell_type": "markdown",
   "metadata": {},
   "source": [
    "#  Outro Exemplo"
   ]
  },
  {
   "cell_type": "code",
   "execution_count": 4,
   "metadata": {},
   "outputs": [
    {
     "name": "stdout",
     "output_type": "stream",
     "text": [
      "classe\n"
     ]
    }
   ],
   "source": [
    "import pyautogui\n",
    "import pyperclip\n",
    "import time\n",
    "\n",
    "# abrindo o chrome\n",
    "pyautogui.PAUSE = 1\n",
    "pyautogui.press(\"win\")\n",
    "pyautogui.write(\"chrome\")\n",
    "pyautogui.press(\"enter\")\n",
    "\n",
    "# entrando no site da hashtag\n",
    "link = \"https://www.hashtagtreinamentos.com/blog\"\n",
    "pyperclip.copy(link)\n",
    "pyautogui.hotkey(\"ctrl\", \"v\")\n",
    "pyautogui.press(\"enter\")\n",
    "\n",
    "# aguardar\n",
    "time.sleep(3)\n",
    "\n",
    "# clicando no campo de busca\n",
    "pyautogui.click(x=-770, y=518)\n",
    "\n",
    "# pesquisando campo de busca\n",
    "texto = \"classe\"\n",
    "pyperclip.copy(texto)\n",
    "pyautogui.hotkey(\"ctrl\", \"v\")\n",
    "pyautogui.press(\"enter\")\n",
    "\n",
    "# aguardar\n",
    "time.sleep(3)\n",
    "\n",
    "# clicar na imagem\n",
    "pyautogui.click(x=-1305, y=648)\n",
    "\n",
    "# aguardar\n",
    "time.sleep(3)\n",
    "\n",
    "# extrair o link\n",
    "pyautogui.click(x=-1592, y=661, button=\"right\")\n",
    "pyautogui.press(\"up\")\n",
    "pyautogui.press(\"up\")\n",
    "pyautogui.press(\"up\")\n",
    "pyautogui.press(\"enter\")\n",
    "\n",
    "# printar o texto copiado\n",
    "texto = pyperclip.paste()\n",
    "print(texto)\n",
    "pyautogui.click(x=-392, y=16)"
   ]
  },
  {
   "cell_type": "code",
   "execution_count": 16,
   "metadata": {},
   "outputs": [
    {
     "name": "stdout",
     "output_type": "stream",
     "text": [
      "pegando posicao em 5 segundos\n",
      "pegando posicao em 4 segundos\n",
      "pegando posicao em 3 segundos\n",
      "pegando posicao em 2 segundos\n",
      "pegando posicao em 1 segundos\n",
      "Point(x=-392, y=16)\n"
     ]
    }
   ],
   "source": [
    "# pegando a posicao de um elemento\n",
    "for i in range(5):\n",
    "    print(f\"pegando posicao em {5 - i} segundos\")\n",
    "    time.sleep(1)\n",
    "    \n",
    "print(pyautogui.position())\n"
   ]
  },
  {
   "cell_type": "markdown",
   "metadata": {},
   "source": [
    "# Código"
   ]
  },
  {
   "cell_type": "code",
   "execution_count": 17,
   "metadata": {},
   "outputs": [],
   "source": [
    "class MeuRobot():\n",
    "    \n",
    "    def __init__(self,tempo_espera):\n",
    "        self.tempo_espera=tempo_espera\n",
    "        pyautogui.PAUSE = 1\n",
    "        \n",
    "    def abrir_programa(self,nome_programa):\n",
    "        pyautogui.PAUSE = 1\n",
    "        pyautogui.press(\"win\")\n",
    "        pyautogui.write(nome_programa)\n",
    "        pyautogui.press(\"enter\")\n",
    "        \n",
    "    def entrar_site(self,site):\n",
    "        self.escrever_e_enter(site)\n",
    "        self.aguardar()\n",
    "        \n",
    "    def escrever_e_enter(self,texto):\n",
    "        pyperclip.copy(texto)\n",
    "        pyautogui.hotkey(\"ctrl\", \"v\")\n",
    "        pyautogui.press(\"enter\")\n",
    "    \n",
    "    def aguardar(self):\n",
    "        time.sleep(self.tempo_espera)\n",
    "        \n",
    "    def pesquisar_no_campo(self,texto):\n",
    "        self.escrever_e_enter(texto)\n",
    "        self.aguardar()\n",
    "    \n",
    "    def clicar(self,x,y,botao='left'):\n",
    "        pyautogui.click(x,y,button=botao)\n",
    "        \n",
    "    def pegar_posicao(self):\n",
    "        for i in range(5):\n",
    "            print(f\"pegando posicao em {5 - i} segundos\")\n",
    "            time.sleep(1)\n",
    "    \n",
    "        print(pyautogui.position())\n",
    "        \n",
    "    def extrair_link(self,x,y):\n",
    "        self.clicar(x,y,botao='right')\n",
    "        pyautogui.press(\"up\")\n",
    "        pyautogui.press(\"up\")\n",
    "        pyautogui.press(\"up\")\n",
    "        pyautogui.press(\"enter\")\n",
    "        \n",
    "        # printar o texto copiado\n",
    "        texto = pyperclip.paste()\n",
    "        print(texto)\n",
    "    \n"
   ]
  },
  {
   "cell_type": "code",
   "execution_count": null,
   "metadata": {},
   "outputs": [],
   "source": []
  },
  {
   "cell_type": "code",
   "execution_count": 18,
   "metadata": {},
   "outputs": [
    {
     "name": "stdout",
     "output_type": "stream",
     "text": [
      "https://youtube.com/hashtagprograma%C3%A7%C3%A3o\n"
     ]
    }
   ],
   "source": [
    "#Código \n",
    "robot=MeuRobot(3)\n",
    "\n",
    "robot.abrir_programa(\"chrome\")\n",
    "robot.entrar_site(\"https://www.hashtagtreinamentos.com/blog\")\n",
    "robot.clicar(x=-780, y=514)\n",
    "robot.pesquisar_no_campo('classe')\n",
    "robot.clicar(x=-1305, y=648)\n",
    "robot.aguardar()\n",
    "robot.extrair_link(x=-1592, y=661)\n",
    "robot.clicar(x=-392, y=16)"
   ]
  },
  {
   "cell_type": "code",
   "execution_count": 47,
   "metadata": {},
   "outputs": [
    {
     "name": "stdout",
     "output_type": "stream",
     "text": [
      "pegando posicao em 5 segundos\n",
      "pegando posicao em 4 segundos\n",
      "pegando posicao em 3 segundos\n",
      "pegando posicao em 2 segundos\n",
      "pegando posicao em 1 segundos\n",
      "Point(x=-780, y=514)\n"
     ]
    }
   ],
   "source": [
    "robot.pegar_posicao()"
   ]
  }
 ],
 "metadata": {
  "kernelspec": {
   "display_name": "Python 3",
   "language": "python",
   "name": "python3"
  },
  "language_info": {
   "codemirror_mode": {
    "name": "ipython",
    "version": 3
   },
   "file_extension": ".py",
   "mimetype": "text/x-python",
   "name": "python",
   "nbconvert_exporter": "python",
   "pygments_lexer": "ipython3",
   "version": "3.7.3"
  },
  "toc": {
   "base_numbering": 1,
   "nav_menu": {},
   "number_sections": true,
   "sideBar": true,
   "skip_h1_title": false,
   "title_cell": "Table of Contents",
   "title_sidebar": "Contents",
   "toc_cell": false,
   "toc_position": {},
   "toc_section_display": true,
   "toc_window_display": false
  }
 },
 "nbformat": 4,
 "nbformat_minor": 2
}
